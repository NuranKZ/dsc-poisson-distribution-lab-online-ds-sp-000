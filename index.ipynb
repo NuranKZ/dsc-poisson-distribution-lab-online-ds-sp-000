{
 "cells": [
  {
   "cell_type": "markdown",
   "metadata": {
    "toc": true
   },
   "source": [
    "<h1>Table of Contents<span class=\"tocSkip\"></span></h1>\n",
    "<div class=\"toc\"><ul class=\"toc-item\"><li><span><a href=\"#Introduction\" data-toc-modified-id=\"Introduction-1\"><span class=\"toc-item-num\">1&nbsp;&nbsp;</span>Introduction</a></span></li><li><span><a href=\"#Objectives\" data-toc-modified-id=\"Objectives-2\"><span class=\"toc-item-num\">2&nbsp;&nbsp;</span>Objectives</a></span></li><li><span><a href=\"#Instructions\" data-toc-modified-id=\"Instructions-3\"><span class=\"toc-item-num\">3&nbsp;&nbsp;</span>Instructions</a></span></li><li><span><a href=\"#Getting-Started\" data-toc-modified-id=\"Getting-Started-4\"><span class=\"toc-item-num\">4&nbsp;&nbsp;</span>Getting Started</a></span></li><li><span><a href=\"#Question-1\" data-toc-modified-id=\"Question-1-5\"><span class=\"toc-item-num\">5&nbsp;&nbsp;</span>Question 1</a></span></li><li><span><a href=\"#Question-2\" data-toc-modified-id=\"Question-2-6\"><span class=\"toc-item-num\">6&nbsp;&nbsp;</span>Question 2</a></span></li><li><span><a href=\"#Question-3\" data-toc-modified-id=\"Question-3-7\"><span class=\"toc-item-num\">7&nbsp;&nbsp;</span>Question 3</a></span></li><li><span><a href=\"#Question-4\" data-toc-modified-id=\"Question-4-8\"><span class=\"toc-item-num\">8&nbsp;&nbsp;</span>Question 4</a></span></li><li><span><a href=\"#Question-5\" data-toc-modified-id=\"Question-5-9\"><span class=\"toc-item-num\">9&nbsp;&nbsp;</span>Question 5</a></span></li><li><span><a href=\"#Summary\" data-toc-modified-id=\"Summary-10\"><span class=\"toc-item-num\">10&nbsp;&nbsp;</span>Summary</a></span></li></ul></div>"
   ]
  },
  {
   "cell_type": "markdown",
   "metadata": {},
   "source": [
    "# Poisson Distribution - Lab\n",
    "\n",
    "## Introduction\n",
    "\n",
    "In this lab, you'll put your knowledge of the Poisson Distribution to use to answer solve some sample real-world problems!\n",
    "\n",
    "## Objectives\n",
    "\n",
    "You will be able to:\n",
    "\n",
    "* Understand and explain the Poisson Distribution and its use cases.\n",
    "\n",
    "\n",
    "## Instructions\n",
    "\n",
    "Solve the following sample problems by using python and your knowledge of the Poisson Distribution.\n",
    "\n",
    "## Getting Started\n",
    "\n",
    "Good Data Scientists plan ahead! Since you're going to be solving Poisson Distribution problems in this lab, it's probably a good idea to write a function that calculates Poisson Probability for us first. \n",
    "\n",
    "Recall that the Poisson Probability Formula is:\n",
    "\n",
    "$$p(x) = \\frac{\\lambda^xe^{-\\lambda}}{x!}$$\n",
    "\n",
    "Write a generalized that takes in the appropriate parameters and returns the Poisson Probability.\n",
    "\n",
    "**_NOTE:_**  You can use `np.exp()` to quickly calculate $e$, and `math.factorial` (from the `math` library, not numpy) to calculate factorials. \n",
    "\n",
    "**_HINT:_** It's up to you whether or not you have your function calculate the value for lambda given $\\mu$ and the interval, or whether you calculate lambda yourself beforehand and just pass it into the function. "
   ]
  },
  {
   "cell_type": "code",
   "execution_count": 8,
   "metadata": {},
   "outputs": [
    {
     "data": {
      "text/plain": [
       "2.718281828459045"
      ]
     },
     "execution_count": 8,
     "metadata": {},
     "output_type": "execute_result"
    }
   ],
   "source": [
    "import numpy as np\n",
    "from math import factorial\n",
    "from math import e"
   ]
  },
  {
   "cell_type": "code",
   "execution_count": 9,
   "metadata": {},
   "outputs": [],
   "source": [
    "def poisson_probability(lambd, x):\n",
    "    return ((lambd**x)*(e**(-lambd)))/factorial(x)"
   ]
  },
  {
   "cell_type": "markdown",
   "metadata": {},
   "source": [
    "## Question 1\n",
    "\n",
    "A fireman fights, on average, 4 fires per month. What is the probability that a fireman is called to two different fires this week?"
   ]
  },
  {
   "cell_type": "code",
   "execution_count": 10,
   "metadata": {},
   "outputs": [
    {
     "name": "stdout",
     "output_type": "stream",
     "text": [
      "0.18393972058572117\n"
     ]
    }
   ],
   "source": [
    "lambd_q1 = 4/4\n",
    "prob_q1 = poisson_probability(lambd_q1, 2)\n",
    "print(prob_q1)  # Expected Output:  0.18393972058572117"
   ]
  },
  {
   "cell_type": "markdown",
   "metadata": {},
   "source": [
    "## Question 2\n",
    "\n",
    "A car salesman sells an average of 4 cars per week.  What is the probability they sell a car today?"
   ]
  },
  {
   "cell_type": "code",
   "execution_count": 11,
   "metadata": {},
   "outputs": [
    {
     "name": "stdout",
     "output_type": "stream",
     "text": [
      "0.32269606971871956\n"
     ]
    }
   ],
   "source": [
    "lambd_q2 = 4/7\n",
    "prob_q2 = poisson_probability(lambd_q2, 1)\n",
    "print(prob_q2)  # Expected Output: 0.32269606971871956"
   ]
  },
  {
   "cell_type": "markdown",
   "metadata": {},
   "source": [
    "## Question 3\n",
    "\n",
    "A website makes an average of 50 sales per day.  What is the probability that they make 3 sales in an hour? "
   ]
  },
  {
   "cell_type": "code",
   "execution_count": 12,
   "metadata": {},
   "outputs": [
    {
     "name": "stdout",
     "output_type": "stream",
     "text": [
      "0.18764840049328915\n"
     ]
    }
   ],
   "source": [
    "lambd_q3 = 50/24\n",
    "prob_q3 = poisson_probability(lambd_q3, 3)\n",
    "print(prob_q3)  # Expected Output: 0.18764840049328912"
   ]
  },
  {
   "cell_type": "markdown",
   "metadata": {},
   "source": [
    "## Question 4\n",
    "\n",
    "A factory produces 250 cars per week (assume that the factory runs day and night all week with no down time). What is the probability that they produce 3 cars in the next hour?"
   ]
  },
  {
   "cell_type": "code",
   "execution_count": 13,
   "metadata": {},
   "outputs": [
    {
     "name": "stdout",
     "output_type": "stream",
     "text": [
      "0.12401361860520911\n"
     ]
    }
   ],
   "source": [
    "lambd_q4 = 250 / (24*7)\n",
    "prob_q4 = poisson_probability(lambd_q4, 3)\n",
    "print(prob_q4)   # Expected Output: 0.1240136186052091"
   ]
  },
  {
   "cell_type": "markdown",
   "metadata": {},
   "source": [
    "## Question 5\n",
    "\n",
    "The following table shows the number of houses sold by a realtor each week for the month of May. What is the probability that they sell 3 houses next week?\n",
    "\n",
    "| Week | Houses Sold |\n",
    "|:----:|:-----------:|\n",
    "|   1  |      6      |\n",
    "|   2  |      2      |\n",
    "|   3  |      5      |\n",
    "|   4  |      4      |"
   ]
  },
  {
   "cell_type": "code",
   "execution_count": 16,
   "metadata": {},
   "outputs": [
    {
     "name": "stdout",
     "output_type": "stream",
     "text": [
      "0.18250047186175355\n"
     ]
    }
   ],
   "source": [
    "mean_weekly_sales = np.array([6,2,5,4])\n",
    "lambd_q5 = mean_weekly_sales.mean() \n",
    "prob_q5 = poisson_probability(lambd_q5, 3)\n",
    "print(prob_q5)  # Expected Output: 0.18250047186175347"
   ]
  },
  {
   "cell_type": "markdown",
   "metadata": {},
   "source": [
    "## Summary\n",
    "\n",
    "In this lab, we got some practice making use of our knowledge of the Poisson Distribution to answer some real-world questions!"
   ]
  }
 ],
 "metadata": {
  "kernelspec": {
   "display_name": "Python 3",
   "language": "python",
   "name": "python3"
  },
  "language_info": {
   "codemirror_mode": {
    "name": "ipython",
    "version": 3
   },
   "file_extension": ".py",
   "mimetype": "text/x-python",
   "name": "python",
   "nbconvert_exporter": "python",
   "pygments_lexer": "ipython3",
   "version": "3.6.6"
  },
  "toc": {
   "base_numbering": 1,
   "nav_menu": {},
   "number_sections": true,
   "sideBar": true,
   "skip_h1_title": true,
   "title_cell": "Table of Contents",
   "title_sidebar": "Contents",
   "toc_cell": true,
   "toc_position": {},
   "toc_section_display": true,
   "toc_window_display": false
  },
  "varInspector": {
   "cols": {
    "lenName": 16,
    "lenType": 16,
    "lenVar": 40
   },
   "kernels_config": {
    "python": {
     "delete_cmd_postfix": "",
     "delete_cmd_prefix": "del ",
     "library": "var_list.py",
     "varRefreshCmd": "print(var_dic_list())"
    },
    "r": {
     "delete_cmd_postfix": ") ",
     "delete_cmd_prefix": "rm(",
     "library": "var_list.r",
     "varRefreshCmd": "cat(var_dic_list()) "
    }
   },
   "types_to_exclude": [
    "module",
    "function",
    "builtin_function_or_method",
    "instance",
    "_Feature"
   ],
   "window_display": false
  }
 },
 "nbformat": 4,
 "nbformat_minor": 2
}
